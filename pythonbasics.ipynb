{
  "nbformat": 4,
  "nbformat_minor": 0,
  "metadata": {
    "colab": {
      "provenance": []
    },
    "kernelspec": {
      "name": "python3",
      "display_name": "Python 3"
    },
    "language_info": {
      "name": "python"
    }
  },
  "cells": [
    {
      "cell_type": "markdown",
      "source": [
        "1. What is Python, and why is it popular?\n",
        "-> Python is a high-level, interpreted beginner friendly programming language known for its simplicity. It's popular because of its easy syntax, large standard library, and vast community. It's used in web development, data science, automation, AI, and more.\n",
        "\n",
        "2. What is an interpreter in Python?\n",
        "-> An interpreter executes Python code line by line, converting it into machine code so that computer can understand.\n",
        "\n",
        "3. What are pre-defined keywords in Python?\n",
        "-> keywords are reserved words that have special meaning in Python, such as if, else, for, while, def, etc.\n",
        "\n",
        "4. Can keywords be used as variable names?\n",
        "->  NO\n",
        "\n",
        "5. What is immutability in Python?\n",
        "-> Immutability means that the value of an object cannot be changed after it's created. For example, strings and tuples are immutable.\n",
        "\n",
        "6. Why are lists mutable, but tuples are immutable?\n",
        "-> Lists are mutable to allow dynamic modifications like adding or removing elements. Tuples are immutable to ensure data integrity and are often used for fixed collections of items.\n",
        "\n",
        "7. What is the difference between == and is operators in Python?\n",
        "-> '==' checks if the values of two variables are equal, while 'is' checks if they refer to the same object in memory.\n",
        "\n",
        "8. What are logical operators in Python?\n",
        "-> Logical operators include and, or, and not. They are used to combine conditional statements.\n",
        "\n",
        "9. What is type casting in Python?\n",
        "-> Type casting is converting a variable from one data type to another, like int(), float(), or str().\n",
        "\n",
        "10. What is the difference between implicit and explicit type casting?\n",
        "\n",
        "-> Implicit: Python automatically converts the data type (e.g., 3 + 4.5 results in 7.5).\n",
        "\n",
        "Explicit: The programmer manually converts the type using functions like int() or str().\n",
        "\n",
        "11. What is the purpose of conditional statements in Python?\n",
        "-> Conditionlas statements are used to execute code based on the evaluation of one or more conditions.\n",
        "conditionals can be used to handle multiple conditions & control branches of execution  based on the outcome of logical expressions.\n",
        "\n",
        "12. How does the elif statement work?\n",
        "-> elif stands for \"else if\" and is used to check multiple conditions. If the if condition is False, it checks the elif conditions.\n",
        "\n",
        "13. What is the difference between for and while loops?\n",
        "\n",
        "-> 'For' loops are used for iterating over a sequence of elements(like lists, strings, or ranges).\n",
        "\n",
        "'while' loops are used for executing the code until a specified conditions becomes false and when the no of iterations is unknown.\n",
        "\n",
        "14. Describe a scenario where a while loop is more suitable than a for loop.\n",
        "-> When you need to keep prompting the user until they enter a valid input (e.g., a password or userd id), a while loop is more suitable because the number of iterations is unknown."
      ],
      "metadata": {
        "id": "zYGalorXC7Gj"
      }
    },
    {
      "cell_type": "code",
      "source": [
        "#Practical Question's Answers:\n",
        "#1\n",
        "print(\"Hello, World!\")"
      ],
      "metadata": {
        "colab": {
          "base_uri": "https://localhost:8080/"
        },
        "id": "tupxXrq6LImN",
        "outputId": "8d1020f8-c5ee-4e51-ba5e-b9a5b3483e69"
      },
      "execution_count": 4,
      "outputs": [
        {
          "output_type": "stream",
          "name": "stdout",
          "text": [
            "Hello, World!\n"
          ]
        }
      ]
    },
    {
      "cell_type": "code",
      "source": [
        "#2\n",
        "name = \"Rohan\"\n",
        "age = 22\n",
        "print(name)\n",
        "print(age)\n"
      ],
      "metadata": {
        "colab": {
          "base_uri": "https://localhost:8080/"
        },
        "id": "c22xzrajLgWO",
        "outputId": "da887798-0ea4-4741-822d-45e584e3314d"
      },
      "execution_count": 15,
      "outputs": [
        {
          "output_type": "stream",
          "name": "stdout",
          "text": [
            "Rohan\n",
            "22\n"
          ]
        }
      ]
    },
    {
      "cell_type": "code",
      "source": [
        "#3\n",
        "import keyword\n",
        "print(keyword.kwlist)\n"
      ],
      "metadata": {
        "colab": {
          "base_uri": "https://localhost:8080/"
        },
        "id": "-N_NeIHaML8y",
        "outputId": "044f3889-a56b-4d59-feb0-87d4e84e65b7"
      },
      "execution_count": 16,
      "outputs": [
        {
          "output_type": "stream",
          "name": "stdout",
          "text": [
            "['False', 'None', 'True', 'and', 'as', 'assert', 'async', 'await', 'break', 'class', 'continue', 'def', 'del', 'elif', 'else', 'except', 'finally', 'for', 'from', 'global', 'if', 'import', 'in', 'is', 'lambda', 'nonlocal', 'not', 'or', 'pass', 'raise', 'return', 'try', 'while', 'with', 'yield']\n"
          ]
        }
      ]
    },
    {
      "cell_type": "code",
      "source": [
        "#4\n",
        "import keyword\n",
        "word = input(\"word: \")\n",
        "print(keyword.iskeyword(word))\n"
      ],
      "metadata": {
        "colab": {
          "base_uri": "https://localhost:8080/"
        },
        "id": "2r1Hq39mM_4Q",
        "outputId": "1f136a49-e008-4d99-9905-6c30112a778f"
      },
      "execution_count": 20,
      "outputs": [
        {
          "output_type": "stream",
          "name": "stdout",
          "text": [
            "word: rohan\n",
            "False\n"
          ]
        }
      ]
    },
    {
      "cell_type": "code",
      "source": [
        "#5\n",
        "list=[1,2,3,4,5]\n",
        "list[0]=7\n",
        "print(list) #it will work and will show [7,2,3,4,5]\n",
        "\n",
        "tuple=(1,2,3,4)\n",
        "tuple[0]=6\n",
        "print(tuple) # it will not work and will show error as tuples are immutable"
      ],
      "metadata": {
        "colab": {
          "base_uri": "https://localhost:8080/",
          "height": 211
        },
        "collapsed": true,
        "id": "c00goLO5NNmn",
        "outputId": "f8d8faf0-c8f8-4899-aa96-870ac9251684"
      },
      "execution_count": 23,
      "outputs": [
        {
          "output_type": "stream",
          "name": "stdout",
          "text": [
            "[7, 2, 3, 4, 5]\n"
          ]
        },
        {
          "output_type": "error",
          "ename": "TypeError",
          "evalue": "'tuple' object does not support item assignment",
          "traceback": [
            "\u001b[0;31m---------------------------------------------------------------------------\u001b[0m",
            "\u001b[0;31mTypeError\u001b[0m                                 Traceback (most recent call last)",
            "\u001b[0;32m/tmp/ipython-input-23-2095524537.py\u001b[0m in \u001b[0;36m<cell line: 0>\u001b[0;34m()\u001b[0m\n\u001b[1;32m      5\u001b[0m \u001b[0;34m\u001b[0m\u001b[0m\n\u001b[1;32m      6\u001b[0m \u001b[0mtuple\u001b[0m\u001b[0;34m=\u001b[0m\u001b[0;34m(\u001b[0m\u001b[0;36m1\u001b[0m\u001b[0;34m,\u001b[0m\u001b[0;36m2\u001b[0m\u001b[0;34m,\u001b[0m\u001b[0;36m3\u001b[0m\u001b[0;34m,\u001b[0m\u001b[0;36m4\u001b[0m\u001b[0;34m)\u001b[0m\u001b[0;34m\u001b[0m\u001b[0;34m\u001b[0m\u001b[0m\n\u001b[0;32m----> 7\u001b[0;31m \u001b[0mtuple\u001b[0m\u001b[0;34m[\u001b[0m\u001b[0;36m0\u001b[0m\u001b[0;34m]\u001b[0m\u001b[0;34m=\u001b[0m\u001b[0;36m6\u001b[0m\u001b[0;34m\u001b[0m\u001b[0;34m\u001b[0m\u001b[0m\n\u001b[0m\u001b[1;32m      8\u001b[0m \u001b[0mprint\u001b[0m\u001b[0;34m(\u001b[0m\u001b[0mtuple\u001b[0m\u001b[0;34m)\u001b[0m \u001b[0;31m# it will not work and will show error as tuples are immutable\u001b[0m\u001b[0;34m\u001b[0m\u001b[0;34m\u001b[0m\u001b[0m\n",
            "\u001b[0;31mTypeError\u001b[0m: 'tuple' object does not support item assignment"
          ]
        }
      ]
    },
    {
      "cell_type": "code",
      "source": [
        "from re import A\n",
        "#6\n",
        "\n",
        "\n",
        "A = [1, 2]\n",
        "B = (1, 2)\n",
        "modify_list(A)\n",
        "modify_tuple(B)\n",
        "print(A)\n",
        "print(B)\n",
        "\n",
        "def modify_list(l):\n",
        "    l.append(15)\n",
        "\n",
        "def modify_tuple(t):\n",
        "    try:\n",
        "        t[0] = 17\n",
        "    except TypeError:\n",
        "        print(\"Cannot modify a tuple\")\n"
      ],
      "metadata": {
        "colab": {
          "base_uri": "https://localhost:8080/"
        },
        "id": "3ZgBkCmkOMmX",
        "outputId": "8fa5ef18-ce30-472c-cd35-9665dd203b72"
      },
      "execution_count": 29,
      "outputs": [
        {
          "output_type": "stream",
          "name": "stdout",
          "text": [
            "Cannot modify a tuple\n",
            "[1, 2, 15]\n",
            "(1, 2)\n"
          ]
        }
      ]
    },
    {
      "cell_type": "code",
      "source": [
        "#7\n",
        "a=int(input(\"num1:\"))\n",
        "b=int(input(\"numb2:\"))\n",
        "print(\"sum:\", a+b)\n",
        "print(\"sum:\", a*b)\n"
      ],
      "metadata": {
        "colab": {
          "base_uri": "https://localhost:8080/"
        },
        "id": "P0pjgrw_SNmP",
        "outputId": "5d75080a-373a-46b1-edf4-ba021f84917e"
      },
      "execution_count": 33,
      "outputs": [
        {
          "output_type": "stream",
          "name": "stdout",
          "text": [
            "num1:4\n",
            "numb2:5\n",
            "sum: 9\n",
            "sum: 20\n"
          ]
        }
      ]
    },
    {
      "cell_type": "code",
      "source": [
        "#8\n",
        "a=True\n",
        "b=False\n",
        "print(\"a and b:\", a and b)\n",
        "print(\"a or b:\", a or b)\n",
        "print(\" not b:\",  not b)\n"
      ],
      "metadata": {
        "colab": {
          "base_uri": "https://localhost:8080/"
        },
        "id": "NHKN3kQ4S0av",
        "outputId": "2444b937-09e2-48bd-b81f-9aa3194d235d"
      },
      "execution_count": 37,
      "outputs": [
        {
          "output_type": "stream",
          "name": "stdout",
          "text": [
            "a and b: False\n",
            "a or b: True\n",
            " not b: True\n"
          ]
        }
      ]
    },
    {
      "cell_type": "code",
      "source": [
        "#9\n",
        "a=input(\"enter here\")\n",
        "print(\"integer:\", int(a))\n",
        "print(\"float:\", float(a))\n",
        "print(\"boolean:\", bool(a))"
      ],
      "metadata": {
        "colab": {
          "base_uri": "https://localhost:8080/"
        },
        "id": "V1Ox5Sb8UZBz",
        "outputId": "0a1d9a30-0abf-4cb8-d211-fee2db79fef6"
      },
      "execution_count": 44,
      "outputs": [
        {
          "output_type": "stream",
          "name": "stdout",
          "text": [
            "enter here10\n",
            "integer: 10\n",
            "float: 10.0\n",
            "boolean: True\n"
          ]
        }
      ]
    },
    {
      "cell_type": "code",
      "source": [
        "#10\n",
        "a = ['1', '2', '3']\n",
        "a=[int(i)for i in a]\n",
        "print(a)\n",
        "\n"
      ],
      "metadata": {
        "colab": {
          "base_uri": "https://localhost:8080/"
        },
        "id": "geKo670IVUz_",
        "outputId": "1a4b5e4c-65a2-493b-bfdb-c059782d7389"
      },
      "execution_count": 69,
      "outputs": [
        {
          "output_type": "stream",
          "name": "stdout",
          "text": [
            "[1, 2, 3]\n"
          ]
        }
      ]
    },
    {
      "cell_type": "code",
      "source": [
        "#11\n",
        "a=int(input(\"number:\"))\n",
        "if a > 0:\n",
        "  print(\"positive\",a)\n",
        "elif a < 0:\n",
        "    print(\"negative\",a)\n",
        "else:\n",
        "      print(\"zero\",a)"
      ],
      "metadata": {
        "colab": {
          "base_uri": "https://localhost:8080/"
        },
        "id": "W0MZlFHrV6uh",
        "outputId": "f07add41-ef39-4b91-dd42-e90bd5f9d496"
      },
      "execution_count": 79,
      "outputs": [
        {
          "output_type": "stream",
          "name": "stdout",
          "text": [
            "number:10\n",
            "positive 10\n"
          ]
        }
      ]
    },
    {
      "cell_type": "code",
      "source": [
        "#12\n",
        "for i in range(1,11):\n",
        "      print(i)"
      ],
      "metadata": {
        "colab": {
          "base_uri": "https://localhost:8080/"
        },
        "id": "8A6tnTkIYiQn",
        "outputId": "8c2f8f2b-a3dc-4b6f-aa08-891587b1558c"
      },
      "execution_count": 85,
      "outputs": [
        {
          "output_type": "stream",
          "name": "stdout",
          "text": [
            "1\n",
            "2\n",
            "3\n",
            "4\n",
            "5\n",
            "6\n",
            "7\n",
            "8\n",
            "9\n",
            "10\n"
          ]
        }
      ]
    },
    {
      "cell_type": "code",
      "source": [
        "#13\n",
        "total = 0\n",
        "for i in range(1, 51):\n",
        "    if i % 2 == 0:\n",
        "        total += i\n",
        "print(\"Sum:\", total)\n"
      ],
      "metadata": {
        "colab": {
          "base_uri": "https://localhost:8080/"
        },
        "id": "J8MKVTepZzxZ",
        "outputId": "7f5f6c87-271e-45cb-bd12-37d3e9646456"
      },
      "execution_count": 86,
      "outputs": [
        {
          "output_type": "stream",
          "name": "stdout",
          "text": [
            "Sum: 650\n"
          ]
        }
      ]
    },
    {
      "cell_type": "code",
      "source": [
        "s = input(\"Enter a string: \")\n",
        "reversed_s = \"\"\n",
        "i = len(s) - 1\n",
        "while i >= 0:\n",
        "    reversed_s += s[i]\n",
        "    i -= 1\n",
        "print(\"Reversed string:\", reversed_s)\n"
      ],
      "metadata": {
        "colab": {
          "base_uri": "https://localhost:8080/"
        },
        "id": "VyHhkhklaUup",
        "outputId": "ece029ab-1d0a-4559-9232-681393408d7a"
      },
      "execution_count": 99,
      "outputs": [
        {
          "output_type": "stream",
          "name": "stdout",
          "text": [
            "Enter a string: 10\n",
            "Reversed string: 01\n"
          ]
        }
      ]
    },
    {
      "cell_type": "code",
      "source": [
        "#15\n",
        "num = int(input(\"Enter a number: \"))\n",
        "factorial = 1\n",
        "i = 1\n",
        "while i <= num:\n",
        "    factorial *= i\n",
        "    i += 1\n",
        "print(\"Factorial:\", factorial)\n"
      ],
      "metadata": {
        "colab": {
          "base_uri": "https://localhost:8080/"
        },
        "id": "iz1gWogvcVpV",
        "outputId": "cb89c29f-a957-406d-efd1-5414c9e0fdab"
      },
      "execution_count": 100,
      "outputs": [
        {
          "output_type": "stream",
          "name": "stdout",
          "text": [
            "Enter a number: 5\n",
            "Factorial: 120\n"
          ]
        }
      ]
    },
    {
      "cell_type": "code",
      "source": [],
      "metadata": {
        "id": "xwXpjpgJgOWs"
      },
      "execution_count": 100,
      "outputs": []
    }
  ]
}